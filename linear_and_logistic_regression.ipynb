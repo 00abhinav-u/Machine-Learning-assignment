{
  "nbformat": 4,
  "nbformat_minor": 0,
  "metadata": {
    "colab": {
      "private_outputs": true,
      "provenance": [],
      "authorship_tag": "ABX9TyPcwWraQc5edt/s3VygM/Sp",
      "include_colab_link": true
    },
    "kernelspec": {
      "name": "python3",
      "display_name": "Python 3"
    },
    "language_info": {
      "name": "python"
    }
  },
  "cells": [
    {
      "cell_type": "markdown",
      "metadata": {
        "id": "view-in-github",
        "colab_type": "text"
      },
      "source": [
        "<a href=\"https://colab.research.google.com/github/00abhinav-u/Data-Science-Project/blob/main/linear_and_logistic_regression.ipynb\" target=\"_parent\"><img src=\"https://colab.research.google.com/assets/colab-badge.svg\" alt=\"Open In Colab\"/></a>"
      ]
    },
    {
      "cell_type": "code",
      "source": [
        "import numpy as np\n",
        "\n",
        "class LinearRegression:\n",
        "    def __init__(self):\n",
        "        self.learning_rate = 0.01\n",
        "        self.iterations = 5000\n",
        "        self.weights = None\n",
        "        self.bias = None\n",
        "\n",
        "    def fit(self, X, y):\n",
        "        n_samples, n_features = X.shape\n",
        "        self.weights = np.ones(n_features) * 0.01\n",
        "        self.bias = 0.0\n",
        "\n",
        "        for _ in range(self.iterations):\n",
        "            y_pred = np.dot(X, self.weights) + self.bias\n",
        "            dw = np.dot(X.T, (y_pred - y)) / n_samples\n",
        "            db = np.mean(y_pred - y)\n",
        "            self.weights -= self.learning_rate * dw\n",
        "            self.bias -= self.learning_rate * db\n",
        "\n",
        "    def predict(self, X):\n",
        "        return np.dot(X, self.weights) + self.bias\n",
        "\n",
        "class LogisticRegression:\n",
        "    def __init__(self):\n",
        "        self.learning_rate = 0.1\n",
        "        self.iterations = 5000\n",
        "        self.weights = None\n",
        "        self.bias = None\n",
        "\n",
        "    def sigmoid(self, z):\n",
        "        return 1 / (1 + np.exp(-z))\n",
        "\n",
        "    def fit(self, X, y):\n",
        "        n_samples, n_features = X.shape\n",
        "        self.weights = np.ones(n_features) * 0.01\n",
        "        self.bias = 0.0\n",
        "\n",
        "        for _ in range(self.iterations):\n",
        "            z = np.dot(X, self.weights) + self.bias\n",
        "            y_pred = self.sigmoid(z)\n",
        "            dw = np.dot(X.T, (y_pred - y)) / n_samples\n",
        "            db = np.mean(y_pred - y)\n",
        "            self.weights -= self.learning_rate * dw\n",
        "            self.bias -= self.learning_rate * db\n",
        "\n",
        "    def predict(self, X):\n",
        "        z = np.dot(X, self.weights) + self.bias\n",
        "        probs = self.sigmoid(z)\n",
        "        return [1 if p >= 0.5 else 0 for p in probs]\n",
        "\n",
        "if __name__ == \"__main__\":\n",
        "    X_linear = np.array([[1.0], [2.0], [3.0], [4.0]])\n",
        "    y_linear = np.array([2.0, 4.0, 6.0, 8.0])\n",
        "\n",
        "    lin_reg = LinearRegression()\n",
        "    lin_reg.fit(X_linear, y_linear)\n",
        "    print(\"Linear Predictions:\", lin_reg.predict(X_linear))\n",
        "\n",
        "    X_logistic = np.array([[1.0], [2.0], [3.0], [4.0]])\n",
        "    y_logistic = np.array([0, 0, 1, 1])\n",
        "\n",
        "    log_reg = LogisticRegression()\n",
        "    log_reg.fit(X_logistic, y_logistic)\n",
        "    print(\"Logistic Predictions:\", log_reg.predict(X_logistic))"
      ],
      "metadata": {
        "id": "NGI-Bx3I4Fu0"
      },
      "execution_count": null,
      "outputs": []
    }
  ]
}